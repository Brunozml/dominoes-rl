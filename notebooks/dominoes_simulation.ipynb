{
 "cells": [
  {
   "cell_type": "markdown",
   "id": "5c6fc4e3",
   "metadata": {},
   "source": [
    "# Simulation: Dominoes Edition \n",
    "\n",
    "Using the dominoes Open Software library, I've done some preliminary simulations of different algorithms, and how they perform against each other. The following \n",
    "\n"
   ]
  },
  {
   "cell_type": "code",
   "execution_count": 5,
   "id": "aa973825",
   "metadata": {},
   "outputs": [],
   "source": [
    "# necessary library\n",
    "import dominoes"
   ]
  },
  {
   "cell_type": "markdown",
   "id": "537cb1d5",
   "metadata": {},
   "source": [
    "# 0. Choose your character(s)\n",
    "\n",
    "The following variables contain an instance of the different algorithms that have been already implemented to play the game.\n",
    "\n",
    "*remark: the **counter** as well as the **probabilistic_alphabeta** players run extremely slowly, making it harder to actually run any simulations with them*"
   ]
  },
  {
   "cell_type": "code",
   "execution_count": 16,
   "id": "2790ba18",
   "metadata": {},
   "outputs": [
    {
     "ename": "TypeError",
     "evalue": "'NoneType' object is not subscriptable",
     "output_type": "error",
     "traceback": [
      "\u001b[0;31m---------------------------------------------------------------------------\u001b[0m",
      "\u001b[0;31mTypeError\u001b[0m                                 Traceback (most recent call last)",
      "\u001b[1;32m/Users/brunozorrilla/Documents/GitHub/dominoes-rl/notebooks/dominoes_simulation.ipynb Cell 4\u001b[0m line \u001b[0;36m5\n\u001b[1;32m      <a href='vscode-notebook-cell:/Users/brunozorrilla/Documents/GitHub/dominoes-rl/notebooks/dominoes_simulation.ipynb#W3sZmlsZQ%3D%3D?line=2'>3</a>\u001b[0m player_1 \u001b[39m=\u001b[39m dominoes\u001b[39m.\u001b[39mplayers\u001b[39m.\u001b[39mrandom_player\n\u001b[1;32m      <a href='vscode-notebook-cell:/Users/brunozorrilla/Documents/GitHub/dominoes-rl/notebooks/dominoes_simulation.ipynb#W3sZmlsZQ%3D%3D?line=3'>4</a>\u001b[0m q_agent \u001b[39m=\u001b[39m dominoes\u001b[39m.\u001b[39mplayers\u001b[39m.\u001b[39mQAgent()\n\u001b[0;32m----> <a href='vscode-notebook-cell:/Users/brunozorrilla/Documents/GitHub/dominoes-rl/notebooks/dominoes_simulation.ipynb#W3sZmlsZQ%3D%3D?line=4'>5</a>\u001b[0m q_agent\u001b[39m.\u001b[39;49mtrain(n \u001b[39m=\u001b[39;49m \u001b[39m100_000\u001b[39;49m)\n\u001b[1;32m      <a href='vscode-notebook-cell:/Users/brunozorrilla/Documents/GitHub/dominoes-rl/notebooks/dominoes_simulation.ipynb#W3sZmlsZQ%3D%3D?line=6'>7</a>\u001b[0m bota_gorda \u001b[39m=\u001b[39m dominoes\u001b[39m.\u001b[39mplayers\u001b[39m.\u001b[39mbota_gorda\n",
      "File \u001b[0;32m~/Documents/GitHub/dominoes-rl/dominoes/players.py:490\u001b[0m, in \u001b[0;36mQAgent.train\u001b[0;34m(self, n, verbose)\u001b[0m\n\u001b[1;32m    483\u001b[0m             \u001b[39mself\u001b[39m\u001b[39m.\u001b[39m_update(\n\u001b[1;32m    484\u001b[0m                 last[player_num][\u001b[39m\"\u001b[39m\u001b[39mstate\u001b[39m\u001b[39m\"\u001b[39m],\n\u001b[1;32m    485\u001b[0m                 last[player_num][\u001b[39m\"\u001b[39m\u001b[39maction\u001b[39m\u001b[39m\"\u001b[39m],\n\u001b[1;32m    486\u001b[0m                 new_state,\n\u001b[1;32m    487\u001b[0m                 points\n\u001b[1;32m    488\u001b[0m             )\n\u001b[1;32m    489\u001b[0m         \u001b[39melse\u001b[39;00m:\n\u001b[0;32m--> 490\u001b[0m             \u001b[39mself\u001b[39;49m\u001b[39m.\u001b[39;49m_update(\n\u001b[1;32m    491\u001b[0m                 last[player_num][\u001b[39m\"\u001b[39;49m\u001b[39mstate\u001b[39;49m\u001b[39m\"\u001b[39;49m],\n\u001b[1;32m    492\u001b[0m                 last[player_num][\u001b[39m\"\u001b[39;49m\u001b[39maction\u001b[39;49m\u001b[39m\"\u001b[39;49m],\n\u001b[1;32m    493\u001b[0m                 new_state,\n\u001b[1;32m    494\u001b[0m                 \u001b[39m-\u001b[39;49mpoints\n\u001b[1;32m    495\u001b[0m             )\n\u001b[1;32m    496\u001b[0m     \u001b[39mbreak\u001b[39;00m\n\u001b[1;32m    498\u001b[0m \u001b[39m# If game is continuing, no rewards yet for any of the players\u001b[39;00m\n",
      "File \u001b[0;32m~/Documents/GitHub/dominoes-rl/dominoes/players.py:345\u001b[0m, in \u001b[0;36mQAgent._update\u001b[0;34m(self, old_state, action, new_state, reward)\u001b[0m\n\u001b[1;32m    339\u001b[0m \u001b[39m\u001b[39m\u001b[39m\"\"\"\u001b[39;00m\n\u001b[1;32m    340\u001b[0m \u001b[39mUpdate Q-learning model, given an old state, an action taken\u001b[39;00m\n\u001b[1;32m    341\u001b[0m \u001b[39min that state, a new resulting state, and the reward received\u001b[39;00m\n\u001b[1;32m    342\u001b[0m \u001b[39mfrom taking that action.\u001b[39;00m\n\u001b[1;32m    343\u001b[0m \u001b[39m\"\"\"\u001b[39;00m\n\u001b[1;32m    344\u001b[0m \u001b[39m# convert states to tuples of only the edges of the board\u001b[39;00m\n\u001b[0;32m--> 345\u001b[0m old_state_edges \u001b[39m=\u001b[39m \u001b[39mtuple\u001b[39m(state_edges(old_state))\n\u001b[1;32m    346\u001b[0m \u001b[39m# new_state_edges = tuple(state_edges(new_state))\u001b[39;00m\n\u001b[1;32m    348\u001b[0m old \u001b[39m=\u001b[39m \u001b[39mself\u001b[39m\u001b[39m.\u001b[39m_get_q_value(old_state_edges, action)\n",
      "File \u001b[0;32m~/Documents/GitHub/dominoes-rl/dominoes/players.py:266\u001b[0m, in \u001b[0;36mstate_edges\u001b[0;34m(state)\u001b[0m\n\u001b[1;32m    261\u001b[0m \u001b[39m\u001b[39m\u001b[39m\"\"\"\u001b[39;00m\n\u001b[1;32m    262\u001b[0m \u001b[39mreturns the edges of the board as a tuple.\u001b[39;00m\n\u001b[1;32m    263\u001b[0m \u001b[39m\"\"\"\u001b[39;00m\n\u001b[1;32m    264\u001b[0m \u001b[39m# TO-DO: re-organize so that there is no need to have \"two states\".\u001b[39;00m\n\u001b[1;32m    265\u001b[0m \u001b[39m# this is a hacky solution to the problem, but not ideal for debugging.\u001b[39;00m\n\u001b[0;32m--> 266\u001b[0m \u001b[39mreturn\u001b[39;00m (state[\u001b[39m0\u001b[39;49m], state[\u001b[39m1\u001b[39m])\n",
      "\u001b[0;31mTypeError\u001b[0m: 'NoneType' object is not subscriptable"
     ]
    }
   ],
   "source": [
    "# initiate instance of each type of player\n",
    "\n",
    "player_1 = dominoes.players.random_player\n",
    "q_agent = dominoes.players.QAgent()\n",
    "q_agent.train(n = 100_000)\n",
    "\n",
    "bota_gorda = dominoes.players.bota_gorda\n"
   ]
  },
  {
   "cell_type": "markdown",
   "id": "942b9f9a",
   "metadata": {},
   "source": [
    "we now concatante a list of 4 of the previous players. These will be used when running simulations"
   ]
  },
  {
   "cell_type": "code",
   "execution_count": 7,
   "id": "ba190652",
   "metadata": {},
   "outputs": [
    {
     "data": {
      "text/plain": [
       "[('AI: gorda', <function dominoes.players.bota_gorda(game)>),\n",
       " ('AI: q-agent', <dominoes.players.QAgent at 0x107893910>),\n",
       " ('AI: gorda', <function dominoes.players.bota_gorda(game)>),\n",
       " ('AI: q-agent', <dominoes.players.QAgent at 0x107893910>)]"
      ]
     },
     "execution_count": 7,
     "metadata": {},
     "output_type": "execute_result"
    }
   ],
   "source": [
    "player_settings = [('AI: random', player_1),\n",
    "                   ('AI: q-agent', q_agent), \n",
    "                   ('AI: random', player_1), \n",
    "                   ('AI: q-agent', q_agent)]\n",
    "\n",
    "player_settings = [('AI: gorda', bota_gorda),\n",
    "                   ('AI: q-agent', q_agent), \n",
    "                   ('AI: gorda', bota_gorda), \n",
    "                   ('AI: q-agent', q_agent)]\n",
    "\n",
    "player_settings"
   ]
  },
  {
   "cell_type": "markdown",
   "id": "63f5da4e",
   "metadata": {},
   "source": [
    "# 1. Playing a single game of dominoes"
   ]
  },
  {
   "cell_type": "code",
   "execution_count": 8,
   "id": "2c313ba4",
   "metadata": {},
   "outputs": [],
   "source": [
    "def single_game(player_settings):\n",
    "    \"\"\"\n",
    "    automatically runs a single game, with the four players specified \n",
    "    in the \"player_settings\" argument. \n",
    "    returns the game object of the played game.\n",
    "    \n",
    "    \"\"\"\n",
    "    \n",
    "    single_game = dominoes.Game.new(starting_domino= dominoes.Domino(6,6))\n",
    "\n",
    "    while single_game.result is None: \n",
    "            # remember whose turn it currently is.\n",
    "            # we'll need it after we move on to the next player.\n",
    "            turn = single_game.turn\n",
    "\n",
    "            # get the setting for the current player\n",
    "            player_setting_name, player_object = player_settings[single_game.turn]\n",
    "\n",
    "            # the current player is an AI. apply the player setting to select a\n",
    "            # move to play and make the selected move\n",
    "            player_object(single_game)\n",
    "            single_game.make_move(*single_game.valid_moves[0])\n",
    "    \n",
    "    return single_game"
   ]
  },
  {
   "cell_type": "markdown",
   "id": "93931afb",
   "metadata": {},
   "source": [
    "It can be used as follows"
   ]
  },
  {
   "cell_type": "code",
   "execution_count": 9,
   "id": "b82eb426",
   "metadata": {},
   "outputs": [
    {
     "data": {
      "text/plain": [
       "Result(player=2, won=False, points=18)"
      ]
     },
     "execution_count": 9,
     "metadata": {},
     "output_type": "execute_result"
    }
   ],
   "source": [
    "res = single_game(player_settings)\n",
    "res.result"
   ]
  },
  {
   "cell_type": "markdown",
   "id": "5c865639",
   "metadata": {},
   "source": [
    "# 3. Preliminary simulations: who wins more?\n",
    "\n",
    "the next block of code runs a certain number of iterations of the same faceoff between two teams, recording which team won (not by how much). The results are stored in a tuple. The results should be balanced"
   ]
  },
  {
   "cell_type": "code",
   "execution_count": 10,
   "id": "96478b7c",
   "metadata": {},
   "outputs": [],
   "source": [
    "def simulate_games(player_settings, n = 100):\n",
    "    \"\"\"\n",
    "    simulates n games with the four players specified in the \"player_settings\" argument. \n",
    "    returns a list of game objects of the played games.\n",
    "    \n",
    "    \"\"\"\n",
    "    games = []\n",
    "    for i in range(n):\n",
    "        games.append(single_game(player_settings).result.points)\n",
    "    \n",
    "    # create mask over games.points if greater than 0. then count\n",
    "    # number of True values in mask\n",
    "    win_count = sum([1 for i in games if i > 0])\n",
    "    print(\"Team 0 won \" + str(win_count) + \" out of \" + str(n) + \" games.\")\n",
    "    return games"
   ]
  },
  {
   "cell_type": "code",
   "execution_count": 11,
   "id": "36a4ce6a",
   "metadata": {},
   "outputs": [
    {
     "name": "stdout",
     "output_type": "stream",
     "text": [
      "Team 0 won 5168 out of 10000 games.\n"
     ]
    },
    {
     "data": {
      "text/plain": [
       "35747"
      ]
     },
     "execution_count": 11,
     "metadata": {},
     "output_type": "execute_result"
    }
   ],
   "source": [
    "games = simulate_games(player_settings, n = 10000)\n",
    "sum(games)"
   ]
  },
  {
   "cell_type": "code",
   "execution_count": 12,
   "id": "41da4d44",
   "metadata": {},
   "outputs": [
    {
     "name": "stdout",
     "output_type": "stream",
     "text": [
      "Team 0: 509 wins. 395 points.\n",
      "Team 1: 491 wins. 352 points.\n"
     ]
    }
   ],
   "source": [
    "# player_settings = [('AI: 0', player_0), # bota gorda\n",
    "#                    ('AI: 1', player_2), # random\n",
    "#                    ('AI: 2', player_2), # random\n",
    "#                    ('AI: 3', player_3)] # bota gorda\n",
    "\n",
    "\n",
    "iters = 1000\n",
    "team_0 = 0\n",
    "team_0_count = 0\n",
    "\n",
    "team_1 = 0\n",
    "team_1_count = 0\n",
    "for i in range(iters):\n",
    "    game = single_game(player_settings)\n",
    "    result = game.result\n",
    "    \n",
    "    # team 0 or team 1 won\n",
    "    if result[0] == 0 or result[0] == 2:\n",
    "        team_0 += 1\n",
    "        team_0_count += result[1]\n",
    "    else:\n",
    "        team_1 += 1 \n",
    "        team_1_count += result[1]\n",
    "        \n",
    "print(f\"Team 0: {team_0} wins. {team_0_count} points.\\n\\\n",
    "Team 1: {team_1} wins. {team_1_count} points.\")\n"
   ]
  },
  {
   "cell_type": "markdown",
   "id": "c0289c9b",
   "metadata": {},
   "source": [
    "# 4. Now, lets play a series\n",
    "\n",
    "in classical dominoes, a series of games are played up to 100 or 150 points. Hence, the first team to accumulate 150 points wins. We'll now count those. The following function `single_series`, runs a single iteration "
   ]
  },
  {
   "cell_type": "code",
   "execution_count": 13,
   "id": "a050aa8b",
   "metadata": {},
   "outputs": [],
   "source": [
    "def single_series(player_settings, target_score = 150):\n",
    "    \"\"\"\n",
    "    run a single iteration of a domino series\n",
    "    arguments:\n",
    "        - player_settings: list. 4 tuples containing names and types of players\n",
    "        - target_score: int. winning score for a series of domino games. default is 150.\n",
    "    \n",
    "    returns:\n",
    "        series object, containing the results and other key information.\n",
    "    \"\"\"\n",
    "\n",
    "    series = dominoes.Series(target_score= target_score)\n",
    "    game = series.games[0]\n",
    "\n",
    "    while not series.is_over():\n",
    "\n",
    "        # the player holding the [6|6] plays first, in the first game. in all other\n",
    "        # games, the outcome of the previous game determines the starting player.\n",
    "\n",
    "        # game.result will be filled in once the game ends\n",
    "        while game.result is None:\n",
    "\n",
    "            # remember whose turn it currently is.\n",
    "            # we'll need it after we move on to the next player.\n",
    "            turn = game.turn\n",
    "\n",
    "            # get the setting for the current player\n",
    "            player_setting_name, player_setting = player_settings[game.turn]\n",
    "\n",
    "            # the current player is an AI. apply the player setting to select a\n",
    "            # move to play. the player setting is a callable that will sort the\n",
    "            # game's valid moves in decreasing order of preference.\n",
    "            player_setting(game)\n",
    "\n",
    "\n",
    "            # make the selected move\n",
    "            game.make_move(*game.valid_moves[0])\n",
    "\n",
    "        # go to next game in series \n",
    "        game = series.next_game()\n",
    "    \n",
    "    return series"
   ]
  },
  {
   "cell_type": "markdown",
   "id": "ae0878ea",
   "metadata": {},
   "source": [
    "one can now use that logic to instantly simulate a domino series, for example:\n"
   ]
  },
  {
   "cell_type": "code",
   "execution_count": 14,
   "id": "106ccf44",
   "metadata": {},
   "outputs": [
    {
     "data": {
      "text/plain": [
       "Series to 150 points:\n",
       "Team 0 has 106 points.\n",
       "Team 1 has 163 points."
      ]
     },
     "execution_count": 14,
     "metadata": {},
     "output_type": "execute_result"
    }
   ],
   "source": [
    "res = single_series(player_settings)\n",
    "res"
   ]
  },
  {
   "cell_type": "markdown",
   "id": "9d4118a2",
   "metadata": {},
   "source": [
    "---\n",
    "Now, we're ready to run hundreds of domino series simulations and compare the performance of different agents. This is the true KPI for dominoes."
   ]
  },
  {
   "cell_type": "code",
   "execution_count": 15,
   "id": "64543728",
   "metadata": {},
   "outputs": [
    {
     "ename": "NameError",
     "evalue": "name 'player_2' is not defined",
     "output_type": "error",
     "traceback": [
      "\u001b[0;31m---------------------------------------------------------------------------\u001b[0m",
      "\u001b[0;31mNameError\u001b[0m                                 Traceback (most recent call last)",
      "\u001b[1;32m/Users/brunozorrilla/Documents/GitHub/dominoes-rl/notebooks/dominoes_simulation.ipynb Cell 20\u001b[0m line \u001b[0;36m4\n\u001b[1;32m      <a href='vscode-notebook-cell:/Users/brunozorrilla/Documents/GitHub/dominoes-rl/notebooks/dominoes_simulation.ipynb#X25sZmlsZQ%3D%3D?line=1'>2</a>\u001b[0m iters \u001b[39m=\u001b[39m \u001b[39m2\u001b[39m\n\u001b[1;32m      <a href='vscode-notebook-cell:/Users/brunozorrilla/Documents/GitHub/dominoes-rl/notebooks/dominoes_simulation.ipynb#X25sZmlsZQ%3D%3D?line=2'>3</a>\u001b[0m target_score \u001b[39m=\u001b[39m \u001b[39m150\u001b[39m\n\u001b[0;32m----> <a href='vscode-notebook-cell:/Users/brunozorrilla/Documents/GitHub/dominoes-rl/notebooks/dominoes_simulation.ipynb#X25sZmlsZQ%3D%3D?line=3'>4</a>\u001b[0m player_settings \u001b[39m=\u001b[39m [(\u001b[39m'\u001b[39m\u001b[39mAI: 0\u001b[39m\u001b[39m'\u001b[39m, player_2),\n\u001b[1;32m      <a href='vscode-notebook-cell:/Users/brunozorrilla/Documents/GitHub/dominoes-rl/notebooks/dominoes_simulation.ipynb#X25sZmlsZQ%3D%3D?line=4'>5</a>\u001b[0m                    (\u001b[39m'\u001b[39m\u001b[39mAI: 1\u001b[39m\u001b[39m'\u001b[39m, player_2), \u001b[39m# prefers to play doubles \u001b[39;00m\n\u001b[1;32m      <a href='vscode-notebook-cell:/Users/brunozorrilla/Documents/GitHub/dominoes-rl/notebooks/dominoes_simulation.ipynb#X25sZmlsZQ%3D%3D?line=5'>6</a>\u001b[0m                    (\u001b[39m'\u001b[39m\u001b[39mAI: 2\u001b[39m\u001b[39m'\u001b[39m, player_2), \n\u001b[1;32m      <a href='vscode-notebook-cell:/Users/brunozorrilla/Documents/GitHub/dominoes-rl/notebooks/dominoes_simulation.ipynb#X25sZmlsZQ%3D%3D?line=6'>7</a>\u001b[0m                    (\u001b[39m'\u001b[39m\u001b[39mAI: 3\u001b[39m\u001b[39m'\u001b[39m, player_2)] \u001b[39m# all random\u001b[39;00m\n\u001b[1;32m      <a href='vscode-notebook-cell:/Users/brunozorrilla/Documents/GitHub/dominoes-rl/notebooks/dominoes_simulation.ipynb#X25sZmlsZQ%3D%3D?line=8'>9</a>\u001b[0m \u001b[39m# initialize counters\u001b[39;00m\n\u001b[1;32m     <a href='vscode-notebook-cell:/Users/brunozorrilla/Documents/GitHub/dominoes-rl/notebooks/dominoes_simulation.ipynb#X25sZmlsZQ%3D%3D?line=9'>10</a>\u001b[0m team_0, team_1 \u001b[39m=\u001b[39m \u001b[39m0\u001b[39m , \u001b[39m0\u001b[39m\n",
      "\u001b[0;31mNameError\u001b[0m: name 'player_2' is not defined"
     ]
    }
   ],
   "source": [
    "# simulation parameters\n",
    "iters = 2\n",
    "target_score = 150\n",
    "player_settings = [('AI: 0', player_2),\n",
    "                   ('AI: 1', player_2), # prefers to play doubles \n",
    "                   ('AI: 2', player_2), \n",
    "                   ('AI: 3', player_2)] # all random\n",
    "\n",
    "# initialize counters\n",
    "team_0, team_1 = 0 , 0\n",
    "team_0_count, team_1_count = 0, 0\n",
    "\n",
    "# run iters and store results in counter\n",
    "for i in range(iters):\n",
    "    series_res = single_series(player_settings, target_score = target_score)\n",
    "    \n",
    "    if series_res.scores[0] >= target_score:\n",
    "        team_0 += 1\n",
    "    else:\n",
    "        team_1 += 1\n",
    "        \n",
    "    team_0_count += series_res.scores[0]\n",
    "    team_1_count += series_res.scores[1]\n",
    "        \n",
    "        \n",
    "# display results      \n",
    "print(f\"Team 0: {team_0} series wins. {team_0_count//iters} avg points per game.\\n\\\n",
    "Team 1: {team_1} series wins. {team_1_count//iters} avg points per game.\")\n"
   ]
  },
  {
   "cell_type": "markdown",
   "id": "eeab0cee",
   "metadata": {},
   "source": [
    "# Conclusions\n",
    "\n",
    "even slight departures from randomness, like playing doubles/ playing heavy dominoes lead to huge improvements in performence.\n"
   ]
  }
 ],
 "metadata": {
  "kernelspec": {
   "display_name": "Python 3 (ipykernel)",
   "language": "python",
   "name": "python3"
  },
  "language_info": {
   "codemirror_mode": {
    "name": "ipython",
    "version": 3
   },
   "file_extension": ".py",
   "mimetype": "text/x-python",
   "name": "python",
   "nbconvert_exporter": "python",
   "pygments_lexer": "ipython3",
   "version": "3.9.6"
  }
 },
 "nbformat": 4,
 "nbformat_minor": 5
}
