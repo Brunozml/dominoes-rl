{
 "cells": [
  {
   "cell_type": "code",
   "execution_count": 1,
   "metadata": {},
   "outputs": [],
   "source": [
    "import dominoes\n",
    "from dominoes.players import *"
   ]
  },
  {
   "cell_type": "markdown",
   "metadata": {},
   "source": [
    "# Sandbox: Adjustable game tree\n",
    "\n",
    "In this notebook, we can see how the game tree changes as we change the parameters of the game. Specifically, we change the number of tiles that are handed at the beginning by the chance player."
   ]
  },
  {
   "cell_type": "code",
   "execution_count": 3,
   "metadata": {},
   "outputs": [
    {
     "name": "stdout",
     "output_type": "stream",
     "text": [
      "Board: [6|6]\n",
      "Player 0's hand: [0|0][5|6][2|5][3|3][1|6][2|3][1|3]\n",
      "Player 1's hand: [0|1][0|3][4|4][3|6][5|5][3|5][2|2]\n",
      "Player 2's hand: [1|4][1|5][0|4][0|2][0|5][2|4][4|6]\n",
      "Player 3's hand: [0|6][1|2][3|4][1|1][4|5][2|6]\n",
      "Player 0's turn\n"
     ]
    }
   ],
   "source": [
    "normal_game = dominoes.Game.new(starting_domino= dominoes.Domino(6,6), tiles_per_hand=7)\n",
    "print (normal_game)"
   ]
  },
  {
   "cell_type": "code",
   "execution_count": 7,
   "metadata": {},
   "outputs": [
    {
     "name": "stdout",
     "output_type": "stream",
     "text": [
      "Board: \n",
      "Player 0's hand: [0|2][1|1]\n",
      "Player 1's hand: [0|0][0|1]\n",
      "Player 2's hand: [0|3][1|3]\n",
      "Player 3's hand: [2|2][1|2]\n",
      "Player 0's turn\n"
     ]
    }
   ],
   "source": [
    "smallest_game = dominoes.Game.new(tiles_per_hand=2)\n",
    "print (smallest_game)"
   ]
  },
  {
   "cell_type": "code",
   "execution_count": null,
   "metadata": {},
   "outputs": [],
   "source": []
  }
 ],
 "metadata": {
  "kernelspec": {
   "display_name": ".venv",
   "language": "python",
   "name": "python3"
  },
  "language_info": {
   "codemirror_mode": {
    "name": "ipython",
    "version": 3
   },
   "file_extension": ".py",
   "mimetype": "text/x-python",
   "name": "python",
   "nbconvert_exporter": "python",
   "pygments_lexer": "ipython3",
   "version": "3.9.6"
  }
 },
 "nbformat": 4,
 "nbformat_minor": 2
}
